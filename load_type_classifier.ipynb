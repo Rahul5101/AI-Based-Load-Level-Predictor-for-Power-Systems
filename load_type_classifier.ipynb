{
 "cells": [
  {
   "cell_type": "code",
   "execution_count": 539,
   "metadata": {},
   "outputs": [],
   "source": [
    "import pandas as pd\n",
    "import numpy as np\n",
    "import matplotlib.pyplot as plt\n",
    "# import seaborn as sns\n",
    "from sklearn.preprocessing import LabelEncoder, StandardScaler\n",
    "from sklearn.model_selection import train_test_split\n",
    "from sklearn.ensemble import RandomForestClassifier\n",
    "from sklearn.metrics import classification_report, confusion_matrix\n",
    "import datetime\n",
    "import warnings\n",
    "warnings.filterwarnings('ignore')"
   ]
  },
  {
   "cell_type": "code",
   "execution_count": 540,
   "metadata": {},
   "outputs": [],
   "source": [
    "data_path = 'data/load_data.csv'\n",
    "df = pd.read_csv(data_path)"
   ]
  },
  {
   "cell_type": "code",
   "execution_count": 541,
   "metadata": {},
   "outputs": [
    {
     "data": {
      "text/html": [
       "<div>\n",
       "<style scoped>\n",
       "    .dataframe tbody tr th:only-of-type {\n",
       "        vertical-align: middle;\n",
       "    }\n",
       "\n",
       "    .dataframe tbody tr th {\n",
       "        vertical-align: top;\n",
       "    }\n",
       "\n",
       "    .dataframe thead th {\n",
       "        text-align: right;\n",
       "    }\n",
       "</style>\n",
       "<table border=\"1\" class=\"dataframe\">\n",
       "  <thead>\n",
       "    <tr style=\"text-align: right;\">\n",
       "      <th></th>\n",
       "      <th>Date_Time</th>\n",
       "      <th>Usage_kWh</th>\n",
       "      <th>Lagging_Current_Reactive.Power_kVarh</th>\n",
       "      <th>Leading_Current_Reactive_Power_kVarh</th>\n",
       "      <th>CO2(tCO2)</th>\n",
       "      <th>Lagging_Current_Power_Factor</th>\n",
       "      <th>Leading_Current_Power_Factor</th>\n",
       "      <th>NSM</th>\n",
       "      <th>Load_Type</th>\n",
       "    </tr>\n",
       "  </thead>\n",
       "  <tbody>\n",
       "    <tr>\n",
       "      <th>0</th>\n",
       "      <td>01-01-2018 00:15</td>\n",
       "      <td>8.753692</td>\n",
       "      <td>2.95</td>\n",
       "      <td>0.0</td>\n",
       "      <td>0.0</td>\n",
       "      <td>73.210000</td>\n",
       "      <td>100.0</td>\n",
       "      <td>900.000000</td>\n",
       "      <td>Light_Load</td>\n",
       "    </tr>\n",
       "    <tr>\n",
       "      <th>1</th>\n",
       "      <td>01-01-2018 00:30</td>\n",
       "      <td>4.000000</td>\n",
       "      <td>4.46</td>\n",
       "      <td>0.0</td>\n",
       "      <td>0.0</td>\n",
       "      <td>66.770000</td>\n",
       "      <td>100.0</td>\n",
       "      <td>1800.000000</td>\n",
       "      <td>Light_Load</td>\n",
       "    </tr>\n",
       "    <tr>\n",
       "      <th>2</th>\n",
       "      <td>01-01-2018 00:45</td>\n",
       "      <td>3.240000</td>\n",
       "      <td>3.28</td>\n",
       "      <td>0.0</td>\n",
       "      <td>0.0</td>\n",
       "      <td>70.280000</td>\n",
       "      <td>100.0</td>\n",
       "      <td>8070.880991</td>\n",
       "      <td>Light_Load</td>\n",
       "    </tr>\n",
       "    <tr>\n",
       "      <th>3</th>\n",
       "      <td>01-01-2018 01:00</td>\n",
       "      <td>3.310000</td>\n",
       "      <td>3.56</td>\n",
       "      <td>0.0</td>\n",
       "      <td>0.0</td>\n",
       "      <td>68.090000</td>\n",
       "      <td>100.0</td>\n",
       "      <td>3600.000000</td>\n",
       "      <td>Light_Load</td>\n",
       "    </tr>\n",
       "    <tr>\n",
       "      <th>4</th>\n",
       "      <td>01-01-2018 01:15</td>\n",
       "      <td>3.820000</td>\n",
       "      <td>4.50</td>\n",
       "      <td>0.0</td>\n",
       "      <td>0.0</td>\n",
       "      <td>133.655666</td>\n",
       "      <td>NaN</td>\n",
       "      <td>4500.000000</td>\n",
       "      <td>Light_Load</td>\n",
       "    </tr>\n",
       "  </tbody>\n",
       "</table>\n",
       "</div>"
      ],
      "text/plain": [
       "          Date_Time  Usage_kWh  Lagging_Current_Reactive.Power_kVarh  \\\n",
       "0  01-01-2018 00:15   8.753692                                  2.95   \n",
       "1  01-01-2018 00:30   4.000000                                  4.46   \n",
       "2  01-01-2018 00:45   3.240000                                  3.28   \n",
       "3  01-01-2018 01:00   3.310000                                  3.56   \n",
       "4  01-01-2018 01:15   3.820000                                  4.50   \n",
       "\n",
       "   Leading_Current_Reactive_Power_kVarh  CO2(tCO2)  \\\n",
       "0                                   0.0        0.0   \n",
       "1                                   0.0        0.0   \n",
       "2                                   0.0        0.0   \n",
       "3                                   0.0        0.0   \n",
       "4                                   0.0        0.0   \n",
       "\n",
       "   Lagging_Current_Power_Factor  Leading_Current_Power_Factor          NSM  \\\n",
       "0                     73.210000                         100.0   900.000000   \n",
       "1                     66.770000                         100.0  1800.000000   \n",
       "2                     70.280000                         100.0  8070.880991   \n",
       "3                     68.090000                         100.0  3600.000000   \n",
       "4                    133.655666                           NaN  4500.000000   \n",
       "\n",
       "    Load_Type  \n",
       "0  Light_Load  \n",
       "1  Light_Load  \n",
       "2  Light_Load  \n",
       "3  Light_Load  \n",
       "4  Light_Load  "
      ]
     },
     "execution_count": 541,
     "metadata": {},
     "output_type": "execute_result"
    }
   ],
   "source": [
    "df.head()"
   ]
  },
  {
   "cell_type": "code",
   "execution_count": 542,
   "metadata": {},
   "outputs": [
    {
     "name": "stdout",
     "output_type": "stream",
     "text": [
      "<class 'pandas.core.frame.DataFrame'>\n",
      "RangeIndex: 35041 entries, 0 to 35040\n",
      "Data columns (total 9 columns):\n",
      " #   Column                                Non-Null Count  Dtype  \n",
      "---  ------                                --------------  -----  \n",
      " 0   Date_Time                             35041 non-null  object \n",
      " 1   Usage_kWh                             33482 non-null  float64\n",
      " 2   Lagging_Current_Reactive.Power_kVarh  34165 non-null  float64\n",
      " 3   Leading_Current_Reactive_Power_kVarh  33885 non-null  float64\n",
      " 4   CO2(tCO2)                             34586 non-null  float64\n",
      " 5   Lagging_Current_Power_Factor          34691 non-null  float64\n",
      " 6   Leading_Current_Power_Factor          33570 non-null  float64\n",
      " 7   NSM                                   34586 non-null  float64\n",
      " 8   Load_Type                             35041 non-null  object \n",
      "dtypes: float64(7), object(2)\n",
      "memory usage: 2.4+ MB\n"
     ]
    }
   ],
   "source": [
    "df.info()"
   ]
  },
  {
   "cell_type": "code",
   "execution_count": 543,
   "metadata": {},
   "outputs": [],
   "source": [
    "df.rename(columns={'Lagging_Current_Reactive.Power_kVarh': 'Lagging_Current_Reactive_Power_kVarh','CO2(tCO2)': 'CO2'}, inplace=True)"
   ]
  },
  {
   "cell_type": "code",
   "execution_count": 544,
   "metadata": {},
   "outputs": [
    {
     "name": "stdout",
     "output_type": "stream",
     "text": [
      "Date_Time                               0.000000\n",
      "Usage_kWh                               4.449074\n",
      "Lagging_Current_Reactive_Power_kVarh    2.499929\n",
      "Leading_Current_Reactive_Power_kVarh    3.298993\n",
      "CO2                                     1.298479\n",
      "Lagging_Current_Power_Factor            0.998830\n",
      "Leading_Current_Power_Factor            4.197940\n",
      "NSM                                     1.298479\n",
      "Load_Type                               0.000000\n",
      "dtype: float64\n"
     ]
    }
   ],
   "source": [
    "missing_perc = df.isnull().sum()/len(df)*100\n",
    "print(missing_perc)"
   ]
  },
  {
   "cell_type": "code",
   "execution_count": 545,
   "metadata": {},
   "outputs": [],
   "source": [
    "df['Usage_kWh'] = df['Usage_kWh'].fillna(df['Usage_kWh'].median())\n",
    "df['Lagging_Current_Reactive_Power_kVarh'] = df['Lagging_Current_Reactive_Power_kVarh'].fillna(df['Lagging_Current_Reactive_Power_kVarh'].median())\n",
    "df['Leading_Current_Reactive_Power_kVarh'] = df['Leading_Current_Reactive_Power_kVarh'].fillna(df['Leading_Current_Reactive_Power_kVarh'].median())\n",
    "df['CO2'] = df['CO2'].fillna(method='ffill')\n",
    "df['Lagging_Current_Power_Factor'] = df['Lagging_Current_Power_Factor'].fillna(df['Lagging_Current_Power_Factor'].mean())\n",
    "df['Leading_Current_Power_Factor'] = df['Leading_Current_Power_Factor'].fillna(df['Leading_Current_Power_Factor'].mean())\n",
    "df['NSM'] = df['NSM'].interpolate()\n"
   ]
  },
  {
   "cell_type": "code",
   "execution_count": 546,
   "metadata": {},
   "outputs": [
    {
     "name": "stdout",
     "output_type": "stream",
     "text": [
      "Date_Time                               0.0\n",
      "Usage_kWh                               0.0\n",
      "Lagging_Current_Reactive_Power_kVarh    0.0\n",
      "Leading_Current_Reactive_Power_kVarh    0.0\n",
      "CO2                                     0.0\n",
      "Lagging_Current_Power_Factor            0.0\n",
      "Leading_Current_Power_Factor            0.0\n",
      "NSM                                     0.0\n",
      "Load_Type                               0.0\n",
      "dtype: float64\n"
     ]
    }
   ],
   "source": [
    "missing_perc = df.isnull().sum()/len(df)*100\n",
    "print(missing_perc)"
   ]
  },
  {
   "cell_type": "code",
   "execution_count": 547,
   "metadata": {},
   "outputs": [
    {
     "data": {
      "text/html": [
       "<div>\n",
       "<style scoped>\n",
       "    .dataframe tbody tr th:only-of-type {\n",
       "        vertical-align: middle;\n",
       "    }\n",
       "\n",
       "    .dataframe tbody tr th {\n",
       "        vertical-align: top;\n",
       "    }\n",
       "\n",
       "    .dataframe thead th {\n",
       "        text-align: right;\n",
       "    }\n",
       "</style>\n",
       "<table border=\"1\" class=\"dataframe\">\n",
       "  <thead>\n",
       "    <tr style=\"text-align: right;\">\n",
       "      <th></th>\n",
       "      <th>Usage_kWh</th>\n",
       "      <th>Lagging_Current_Reactive_Power_kVarh</th>\n",
       "      <th>Leading_Current_Reactive_Power_kVarh</th>\n",
       "      <th>CO2</th>\n",
       "      <th>Lagging_Current_Power_Factor</th>\n",
       "      <th>Leading_Current_Power_Factor</th>\n",
       "      <th>NSM</th>\n",
       "    </tr>\n",
       "  </thead>\n",
       "  <tbody>\n",
       "    <tr>\n",
       "      <th>count</th>\n",
       "      <td>35041.000000</td>\n",
       "      <td>35041.000000</td>\n",
       "      <td>35041.00000</td>\n",
       "      <td>35041.000000</td>\n",
       "      <td>35041.000000</td>\n",
       "      <td>35041.000000</td>\n",
       "      <td>35041.000000</td>\n",
       "    </tr>\n",
       "    <tr>\n",
       "      <th>mean</th>\n",
       "      <td>29.734851</td>\n",
       "      <td>14.466466</td>\n",
       "      <td>4.24140</td>\n",
       "      <td>0.012924</td>\n",
       "      <td>90.740871</td>\n",
       "      <td>94.926552</td>\n",
       "      <td>48003.510654</td>\n",
       "    </tr>\n",
       "    <tr>\n",
       "      <th>std</th>\n",
       "      <td>40.825418</td>\n",
       "      <td>20.141795</td>\n",
       "      <td>8.97324</td>\n",
       "      <td>0.019696</td>\n",
       "      <td>39.546396</td>\n",
       "      <td>48.769778</td>\n",
       "      <td>34008.136986</td>\n",
       "    </tr>\n",
       "    <tr>\n",
       "      <th>min</th>\n",
       "      <td>0.000000</td>\n",
       "      <td>0.000000</td>\n",
       "      <td>0.00000</td>\n",
       "      <td>0.000000</td>\n",
       "      <td>0.000000</td>\n",
       "      <td>0.000000</td>\n",
       "      <td>0.000000</td>\n",
       "    </tr>\n",
       "    <tr>\n",
       "      <th>25%</th>\n",
       "      <td>3.350000</td>\n",
       "      <td>2.560000</td>\n",
       "      <td>0.00000</td>\n",
       "      <td>0.000000</td>\n",
       "      <td>66.660000</td>\n",
       "      <td>95.020000</td>\n",
       "      <td>22500.000000</td>\n",
       "    </tr>\n",
       "    <tr>\n",
       "      <th>50%</th>\n",
       "      <td>5.290000</td>\n",
       "      <td>5.180000</td>\n",
       "      <td>0.00000</td>\n",
       "      <td>0.000000</td>\n",
       "      <td>90.260000</td>\n",
       "      <td>100.000000</td>\n",
       "      <td>45000.000000</td>\n",
       "    </tr>\n",
       "    <tr>\n",
       "      <th>75%</th>\n",
       "      <td>51.730000</td>\n",
       "      <td>22.750000</td>\n",
       "      <td>1.51000</td>\n",
       "      <td>0.020000</td>\n",
       "      <td>100.000000</td>\n",
       "      <td>100.000000</td>\n",
       "      <td>68400.000000</td>\n",
       "    </tr>\n",
       "    <tr>\n",
       "      <th>max</th>\n",
       "      <td>435.019069</td>\n",
       "      <td>262.630718</td>\n",
       "      <td>78.80900</td>\n",
       "      <td>0.188166</td>\n",
       "      <td>299.996814</td>\n",
       "      <td>299.969494</td>\n",
       "      <td>248821.810465</td>\n",
       "    </tr>\n",
       "  </tbody>\n",
       "</table>\n",
       "</div>"
      ],
      "text/plain": [
       "          Usage_kWh  Lagging_Current_Reactive_Power_kVarh  \\\n",
       "count  35041.000000                          35041.000000   \n",
       "mean      29.734851                             14.466466   \n",
       "std       40.825418                             20.141795   \n",
       "min        0.000000                              0.000000   \n",
       "25%        3.350000                              2.560000   \n",
       "50%        5.290000                              5.180000   \n",
       "75%       51.730000                             22.750000   \n",
       "max      435.019069                            262.630718   \n",
       "\n",
       "       Leading_Current_Reactive_Power_kVarh           CO2  \\\n",
       "count                           35041.00000  35041.000000   \n",
       "mean                                4.24140      0.012924   \n",
       "std                                 8.97324      0.019696   \n",
       "min                                 0.00000      0.000000   \n",
       "25%                                 0.00000      0.000000   \n",
       "50%                                 0.00000      0.000000   \n",
       "75%                                 1.51000      0.020000   \n",
       "max                                78.80900      0.188166   \n",
       "\n",
       "       Lagging_Current_Power_Factor  Leading_Current_Power_Factor  \\\n",
       "count                  35041.000000                  35041.000000   \n",
       "mean                      90.740871                     94.926552   \n",
       "std                       39.546396                     48.769778   \n",
       "min                        0.000000                      0.000000   \n",
       "25%                       66.660000                     95.020000   \n",
       "50%                       90.260000                    100.000000   \n",
       "75%                      100.000000                    100.000000   \n",
       "max                      299.996814                    299.969494   \n",
       "\n",
       "                 NSM  \n",
       "count   35041.000000  \n",
       "mean    48003.510654  \n",
       "std     34008.136986  \n",
       "min         0.000000  \n",
       "25%     22500.000000  \n",
       "50%     45000.000000  \n",
       "75%     68400.000000  \n",
       "max    248821.810465  "
      ]
     },
     "execution_count": 547,
     "metadata": {},
     "output_type": "execute_result"
    }
   ],
   "source": [
    "df.describe()"
   ]
  },
  {
   "cell_type": "code",
   "execution_count": 548,
   "metadata": {},
   "outputs": [],
   "source": [
    "\n",
    "df['Hours'] = (df['NSM'] % 86400) // 3600\n",
    "df['Lagging_Current_Power_Factor'] = df['Lagging_Current_Power_Factor'].clip(upper=100)\n",
    "df['Leading_Current_Power_Factor'] = df['Leading_Current_Power_Factor'].clip(upper=100)\n",
    "#df['Has_Leading_Reactive'] = df['Leading_Current_Reactive_Power_kVarh'].apply(lambda x: 1 if x > 0 else 0)\n",
    "df['Usage_kWh_log'] = np.log1p(df['Usage_kWh'])\n",
    "df['Lagging_Reactive_log'] = np.log1p(df['Lagging_Current_Reactive_Power_kVarh'])"
   ]
  },
  {
   "cell_type": "code",
   "execution_count": 549,
   "metadata": {},
   "outputs": [
    {
     "data": {
      "text/html": [
       "<div>\n",
       "<style scoped>\n",
       "    .dataframe tbody tr th:only-of-type {\n",
       "        vertical-align: middle;\n",
       "    }\n",
       "\n",
       "    .dataframe tbody tr th {\n",
       "        vertical-align: top;\n",
       "    }\n",
       "\n",
       "    .dataframe thead th {\n",
       "        text-align: right;\n",
       "    }\n",
       "</style>\n",
       "<table border=\"1\" class=\"dataframe\">\n",
       "  <thead>\n",
       "    <tr style=\"text-align: right;\">\n",
       "      <th></th>\n",
       "      <th>Date_Time</th>\n",
       "      <th>Usage_kWh</th>\n",
       "      <th>Lagging_Current_Reactive_Power_kVarh</th>\n",
       "      <th>Leading_Current_Reactive_Power_kVarh</th>\n",
       "      <th>CO2</th>\n",
       "      <th>Lagging_Current_Power_Factor</th>\n",
       "      <th>Leading_Current_Power_Factor</th>\n",
       "      <th>NSM</th>\n",
       "      <th>Load_Type</th>\n",
       "      <th>Hours</th>\n",
       "      <th>Usage_kWh_log</th>\n",
       "      <th>Lagging_Reactive_log</th>\n",
       "    </tr>\n",
       "  </thead>\n",
       "  <tbody>\n",
       "    <tr>\n",
       "      <th>35036</th>\n",
       "      <td>31-12-2018 23:15</td>\n",
       "      <td>3.74</td>\n",
       "      <td>3.74</td>\n",
       "      <td>0.000000</td>\n",
       "      <td>0.0</td>\n",
       "      <td>70.71</td>\n",
       "      <td>100.000000</td>\n",
       "      <td>83700.000000</td>\n",
       "      <td>Light_Load</td>\n",
       "      <td>23.0</td>\n",
       "      <td>1.556037</td>\n",
       "      <td>1.556037</td>\n",
       "    </tr>\n",
       "    <tr>\n",
       "      <th>35037</th>\n",
       "      <td>31-12-2018 23:30</td>\n",
       "      <td>3.78</td>\n",
       "      <td>3.17</td>\n",
       "      <td>0.070000</td>\n",
       "      <td>0.0</td>\n",
       "      <td>76.62</td>\n",
       "      <td>99.980000</td>\n",
       "      <td>157160.395291</td>\n",
       "      <td>Light_Load</td>\n",
       "      <td>19.0</td>\n",
       "      <td>1.564441</td>\n",
       "      <td>1.427916</td>\n",
       "    </tr>\n",
       "    <tr>\n",
       "      <th>35038</th>\n",
       "      <td>31-12-2018 23:45</td>\n",
       "      <td>3.78</td>\n",
       "      <td>3.06</td>\n",
       "      <td>0.110000</td>\n",
       "      <td>0.0</td>\n",
       "      <td>100.00</td>\n",
       "      <td>99.960000</td>\n",
       "      <td>85500.000000</td>\n",
       "      <td>Light_Load</td>\n",
       "      <td>23.0</td>\n",
       "      <td>1.564441</td>\n",
       "      <td>1.401183</td>\n",
       "    </tr>\n",
       "    <tr>\n",
       "      <th>35039</th>\n",
       "      <td>31-12-2018 00:00</td>\n",
       "      <td>3.67</td>\n",
       "      <td>3.02</td>\n",
       "      <td>0.174801</td>\n",
       "      <td>0.0</td>\n",
       "      <td>77.22</td>\n",
       "      <td>94.926552</td>\n",
       "      <td>0.000000</td>\n",
       "      <td>Light_Load</td>\n",
       "      <td>0.0</td>\n",
       "      <td>1.541159</td>\n",
       "      <td>1.391282</td>\n",
       "    </tr>\n",
       "    <tr>\n",
       "      <th>35040</th>\n",
       "      <td>31-12-2018 20:00</td>\n",
       "      <td>5.29</td>\n",
       "      <td>0.00</td>\n",
       "      <td>20.100000</td>\n",
       "      <td>0.0</td>\n",
       "      <td>100.00</td>\n",
       "      <td>20.190000</td>\n",
       "      <td>72000.000000</td>\n",
       "      <td>Light_Load</td>\n",
       "      <td>20.0</td>\n",
       "      <td>1.838961</td>\n",
       "      <td>0.000000</td>\n",
       "    </tr>\n",
       "  </tbody>\n",
       "</table>\n",
       "</div>"
      ],
      "text/plain": [
       "              Date_Time  Usage_kWh  Lagging_Current_Reactive_Power_kVarh  \\\n",
       "35036  31-12-2018 23:15       3.74                                  3.74   \n",
       "35037  31-12-2018 23:30       3.78                                  3.17   \n",
       "35038  31-12-2018 23:45       3.78                                  3.06   \n",
       "35039  31-12-2018 00:00       3.67                                  3.02   \n",
       "35040  31-12-2018 20:00       5.29                                  0.00   \n",
       "\n",
       "       Leading_Current_Reactive_Power_kVarh  CO2  \\\n",
       "35036                              0.000000  0.0   \n",
       "35037                              0.070000  0.0   \n",
       "35038                              0.110000  0.0   \n",
       "35039                              0.174801  0.0   \n",
       "35040                             20.100000  0.0   \n",
       "\n",
       "       Lagging_Current_Power_Factor  Leading_Current_Power_Factor  \\\n",
       "35036                         70.71                    100.000000   \n",
       "35037                         76.62                     99.980000   \n",
       "35038                        100.00                     99.960000   \n",
       "35039                         77.22                     94.926552   \n",
       "35040                        100.00                     20.190000   \n",
       "\n",
       "                 NSM   Load_Type  Hours  Usage_kWh_log  Lagging_Reactive_log  \n",
       "35036   83700.000000  Light_Load   23.0       1.556037              1.556037  \n",
       "35037  157160.395291  Light_Load   19.0       1.564441              1.427916  \n",
       "35038   85500.000000  Light_Load   23.0       1.564441              1.401183  \n",
       "35039       0.000000  Light_Load    0.0       1.541159              1.391282  \n",
       "35040   72000.000000  Light_Load   20.0       1.838961              0.000000  "
      ]
     },
     "execution_count": 549,
     "metadata": {},
     "output_type": "execute_result"
    }
   ],
   "source": [
    "df.tail()"
   ]
  },
  {
   "cell_type": "code",
   "execution_count": 550,
   "metadata": {},
   "outputs": [
    {
     "name": "stdout",
     "output_type": "stream",
     "text": [
      "Label classes: ['Light_Load' 'Maximum_Load' 'Medium_Load']\n"
     ]
    }
   ],
   "source": [
    "from sklearn.preprocessing import LabelEncoder\n",
    "\n",
    "le = LabelEncoder()\n",
    "df['load_level_encoded'] = le.fit_transform(df['Load_Type'])\n",
    "print(\"Label classes:\", le.classes_)"
   ]
  },
  {
   "cell_type": "code",
   "execution_count": null,
   "metadata": {},
   "outputs": [],
   "source": []
  },
  {
   "cell_type": "code",
   "execution_count": 551,
   "metadata": {},
   "outputs": [],
   "source": [
    "df['Date_Time'] = pd.to_datetime(df['Date_Time'], dayfirst=True)\n",
    "df.set_index('Date_Time', inplace=True)"
   ]
  },
  {
   "cell_type": "code",
   "execution_count": 552,
   "metadata": {},
   "outputs": [],
   "source": [
    "df.drop(columns=['Load_Type'], inplace=True)"
   ]
  },
  {
   "cell_type": "code",
   "execution_count": 553,
   "metadata": {},
   "outputs": [],
   "source": [
    "df = df.resample('H').mean()\n",
    "df['Has_Leading_Reactive'] = df['Leading_Current_Reactive_Power_kVarh'].apply(lambda x: 1 if x > 0 else 0)"
   ]
  },
  {
   "cell_type": "code",
   "execution_count": 554,
   "metadata": {},
   "outputs": [],
   "source": [
    "df['Signed_Power_Factor'] = (\n",
    "    df['Lagging_Current_Power_Factor'] - df['Leading_Current_Power_Factor']\n",
    ")\n",
    "df['pf_type'] = df['Signed_Power_Factor'].apply(\n",
    "    lambda x: '1' if x > 0 else '0' \n",
    ")# pf is power factor type\n"
   ]
  },
  {
   "cell_type": "code",
   "execution_count": 555,
   "metadata": {},
   "outputs": [],
   "source": [
    "df.reset_index(inplace=True)\n",
    "drop_cols = ['Date_Time', 'Usage_kWh','CO2', 'Lagging_Current_Reactive_Power_kVarh','Leading_Current_Reactive_Power_kVarh','Lagging_Current_Power_Factor','Leading_Current_Power_Factor','NSM','Signed_Power_Factor','load_level_encoded']\n",
    "feature_cols = [col for col in df.columns if col not in drop_cols]\n",
    "feature_cols = list(set(feature_cols))"
   ]
  },
  {
   "cell_type": "code",
   "execution_count": 556,
   "metadata": {},
   "outputs": [
    {
     "data": {
      "text/plain": [
       "['Hours',\n",
       " 'Lagging_Reactive_log',\n",
       " 'Usage_kWh_log',\n",
       " 'Has_Leading_Reactive',\n",
       " 'pf_type']"
      ]
     },
     "execution_count": 556,
     "metadata": {},
     "output_type": "execute_result"
    }
   ],
   "source": [
    "feature_cols"
   ]
  },
  {
   "cell_type": "code",
   "execution_count": 557,
   "metadata": {},
   "outputs": [],
   "source": [
    "def mapping_unique(value):\n",
    "    if value < 0.66:\n",
    "        return 0  \n",
    "    elif value < 1.32:\n",
    "        return 1  \n",
    "    else:\n",
    "        return 2  "
   ]
  },
  {
   "cell_type": "code",
   "execution_count": 558,
   "metadata": {},
   "outputs": [],
   "source": [
    "x = df[feature_cols]\n",
    "y = df['load_level_encoded']\n",
    "df['load_level_encoded'] = df['load_level_encoded'].apply(mapping_unique)"
   ]
  },
  {
   "cell_type": "code",
   "execution_count": 559,
   "metadata": {},
   "outputs": [
    {
     "data": {
      "text/plain": [
       "load_level_encoded\n",
       "0    4518\n",
       "2    2424\n",
       "1    1818\n",
       "Name: count, dtype: int64"
      ]
     },
     "execution_count": 559,
     "metadata": {},
     "output_type": "execute_result"
    }
   ],
   "source": [
    "y = df['load_level_encoded']\n",
    "y.value_counts()"
   ]
  },
  {
   "cell_type": "code",
   "execution_count": 560,
   "metadata": {},
   "outputs": [],
   "source": [
    "scaler = StandardScaler()\n",
    "x_scaled = scaler.fit_transform(x)"
   ]
  },
  {
   "cell_type": "code",
   "execution_count": 561,
   "metadata": {},
   "outputs": [
    {
     "data": {
      "text/plain": [
       "array([[-1.67328268, -0.37769631, -0.73205062, -0.85431717, -0.62223259],\n",
       "       [-1.59670164, -0.30259244, -0.89931395, -0.85431717, -0.62223259],\n",
       "       [-1.36695851, -0.26430403, -0.79366519, -0.85431717, -0.62223259],\n",
       "       ...,\n",
       "       [ 0.96876331, -1.64712457, -0.84187843,  1.17052547,  1.60711608],\n",
       "       [ 1.31337801, -0.61792473, -0.83093362,  1.17052547,  1.60711608],\n",
       "       [ 1.61970218, -0.34964791, -0.84727188,  1.17052547, -0.62223259]],\n",
       "      shape=(8760, 5))"
      ]
     },
     "execution_count": 561,
     "metadata": {},
     "output_type": "execute_result"
    }
   ],
   "source": [
    "x_scaled"
   ]
  },
  {
   "cell_type": "code",
   "execution_count": 562,
   "metadata": {},
   "outputs": [],
   "source": [
    "import seaborn as sns"
   ]
  },
  {
   "cell_type": "code",
   "execution_count": 563,
   "metadata": {},
   "outputs": [
    {
     "data": {
      "image/png": "[encoded data removed]",
      "text/plain": [
       "<Figure size 640x480 with 1 Axes>"
      ]
     },
     "metadata": {},
     "output_type": "display_data"
    }
   ],
   "source": [
    "sns.countplot(x=y)\n",
    "plt.title('Distribution of Load Types')\n",
    "plt.show()"
   ]
  },
  {
   "cell_type": "code",
   "execution_count": 564,
   "metadata": {},
   "outputs": [
    {
     "data": {
      "image/png": "[encoded data removed]",
      "text/plain": [
       "<Figure size 1000x600 with 2 Axes>"
      ]
     },
     "metadata": {},
     "output_type": "display_data"
    }
   ],
   "source": [
    "plt.figure(figsize=(10,6))\n",
    "sns.heatmap(x.corr(), annot=True, fmt='.2f', cmap='coolwarm')\n",
    "plt.title('Feature Correlation Heatmap')\n",
    "plt.show()"
   ]
  },
  {
   "cell_type": "code",
   "execution_count": 565,
   "metadata": {},
   "outputs": [
    {
     "name": "stdout",
     "output_type": "stream",
     "text": [
      "(7884, 5) (876, 5) (7884,) (876,)\n"
     ]
    }
   ],
   "source": [
    "from sklearn.model_selection import train_test_split\n",
    "from sklearn.metrics import accuracy_score\n",
    "\n",
    "x_train, x_test, y_train, y_test = train_test_split(x_scaled, y, test_size=0.1, random_state=42)\n",
    "\n",
    "print(x_train.shape, x_test.shape, y_train.shape, y_test.shape)\n",
    "\n"
   ]
  },
  {
   "cell_type": "code",
   "execution_count": 566,
   "metadata": {},
   "outputs": [],
   "source": [
    "from sklearn.linear_model import LogisticRegression\n",
    "lr = LogisticRegression(multi_class='ovr', solver='liblinear', random_state=42)"
   ]
  },
  {
   "cell_type": "code",
   "execution_count": 567,
   "metadata": {},
   "outputs": [],
   "source": [
    "lr.fit(x_train,y_train)\n",
    "lr_pred = lr.predict(x_test)"
   ]
  },
  {
   "cell_type": "code",
   "execution_count": 568,
   "metadata": {},
   "outputs": [
    {
     "data": {
      "text/plain": [
       "0.776255707762557"
      ]
     },
     "execution_count": 568,
     "metadata": {},
     "output_type": "execute_result"
    }
   ],
   "source": [
    "accuracy_score(y_test, lr_pred)"
   ]
  },
  {
   "cell_type": "code",
   "execution_count": 569,
   "metadata": {},
   "outputs": [
    {
     "name": "stdout",
     "output_type": "stream",
     "text": [
      "Classification Report for Logistic Regression:\n",
      "              precision    recall  f1-score   support\n",
      "\n",
      "  Light_Load       0.91      0.93      0.92       464\n",
      "Maximum_Load       0.56      0.54      0.55       160\n",
      " Medium_Load       0.65      0.65      0.65       252\n",
      "\n",
      "    accuracy                           0.78       876\n",
      "   macro avg       0.71      0.71      0.71       876\n",
      "weighted avg       0.77      0.78      0.77       876\n",
      "\n"
     ]
    }
   ],
   "source": [
    "print('Classification Report for Logistic Regression:')\n",
    "print(classification_report(y_test, lr_pred, target_names=le.classes_))"
   ]
  },
  {
   "cell_type": "code",
   "execution_count": 570,
   "metadata": {},
   "outputs": [
    {
     "data": {
      "image/png": "[encoded data removed]",
      "text/plain": [
       "<Figure size 600x400 with 2 Axes>"
      ]
     },
     "metadata": {},
     "output_type": "display_data"
    }
   ],
   "source": [
    "cm = confusion_matrix(y_test, lr_pred)\n",
    "plt.figure(figsize=(6,4))\n",
    "sns.heatmap(cm, annot=True, fmt='d', cmap='Blues', xticklabels=le.classes_, yticklabels=le.classes_)\n",
    "plt.xlabel('Predicted')\n",
    "plt.ylabel('Actual')\n",
    "plt.title('Confusion Matrix')\n",
    "plt.show()"
   ]
  },
  {
   "cell_type": "code",
   "execution_count": 571,
   "metadata": {},
   "outputs": [],
   "source": [
    "from sklearn.ensemble import RandomForestClassifier\n",
    "rf = RandomForestClassifier(n_estimators=100, random_state=42)"
   ]
  },
  {
   "cell_type": "code",
   "execution_count": 572,
   "metadata": {},
   "outputs": [],
   "source": [
    "rf.fit(x_train,y_train)\n",
    "rf_pred = rf.predict(x_test)"
   ]
  },
  {
   "cell_type": "code",
   "execution_count": 573,
   "metadata": {},
   "outputs": [
    {
     "data": {
      "text/plain": [
       "0.8070776255707762"
      ]
     },
     "execution_count": 573,
     "metadata": {},
     "output_type": "execute_result"
    }
   ],
   "source": [
    "accuracy_score(y_test, rf_pred)"
   ]
  },
  {
   "cell_type": "code",
   "execution_count": 574,
   "metadata": {},
   "outputs": [
    {
     "name": "stdout",
     "output_type": "stream",
     "text": [
      "Classification Report for Logistic Regression:\n",
      "              precision    recall  f1-score   support\n",
      "\n",
      "  Light_Load       0.94      0.94      0.94       464\n",
      "Maximum_Load       0.60      0.63      0.62       160\n",
      " Medium_Load       0.70      0.67      0.69       252\n",
      "\n",
      "    accuracy                           0.81       876\n",
      "   macro avg       0.75      0.75      0.75       876\n",
      "weighted avg       0.81      0.81      0.81       876\n",
      "\n"
     ]
    }
   ],
   "source": [
    "print('Classification Report for Logistic Regression:')\n",
    "print(classification_report(y_test, rf_pred, target_names=le.classes_))"
   ]
  },
  {
   "cell_type": "code",
   "execution_count": 575,
   "metadata": {},
   "outputs": [
    {
     "data": {
      "image/png": "[encoded data removed]",
      "text/plain": [
       "<Figure size 600x400 with 2 Axes>"
      ]
     },
     "metadata": {},
     "output_type": "display_data"
    }
   ],
   "source": [
    "cm = confusion_matrix(y_test, rf_pred)\n",
    "plt.figure(figsize=(6,4))\n",
    "sns.heatmap(cm, annot=True, fmt='d', cmap='Blues', xticklabels=le.classes_, yticklabels=le.classes_)\n",
    "plt.xlabel('Predicted')\n",
    "plt.ylabel('Actual')\n",
    "plt.title('Confusion Matrix')\n",
    "plt.show()"
   ]
  },
  {
   "cell_type": "code",
   "execution_count": 576,
   "metadata": {},
   "outputs": [
    {
     "name": "stdout",
     "output_type": "stream",
     "text": [
      "Fitting 3 folds for each of 16 candidates, totalling 48 fits\n",
      "Best Parameters: {'n_estimators': 100, 'min_samples_split': 2, 'min_samples_leaf': 1, 'max_depth': 10}\n"
     ]
    }
   ],
   "source": [
    "from sklearn.model_selection import RandomizedSearchCV\n",
    "param_dist = {\n",
    "    'n_estimators': [100, 200],\n",
    "    'max_depth': [10, 15],\n",
    "    'min_samples_split': [2, 5],\n",
    "    'min_samples_leaf': [1, 2]\n",
    "}\n",
    "random_search = RandomizedSearchCV(\n",
    "    RandomForestClassifier(random_state=42),\n",
    "    param_distributions=param_dist,\n",
    "    n_iter=50,         \n",
    "    cv=3,\n",
    "    scoring='accuracy',\n",
    "    n_jobs=-1,\n",
    "    verbose=1\n",
    ")\n",
    "\n",
    "random_search.fit(x_train, y_train)\n",
    "print(\"Best Parameters:\", random_search.best_params_)"
   ]
  },
  {
   "cell_type": "code",
   "execution_count": 577,
   "metadata": {},
   "outputs": [
    {
     "name": "stdout",
     "output_type": "stream",
     "text": [
      "the accuracy of the model with best parameters is: 0.8378995433789954\n"
     ]
    }
   ],
   "source": [
    "best_rf = RandomForestClassifier(n_estimators=100, max_depth=10, min_samples_split=5, min_samples_leaf=2)\n",
    "best_rf.fit(x_train, y_train)\n",
    "best_rf_pred = best_rf.predict(x_test)\n",
    "print(\"the accuracy of the model with best parameters is:\",accuracy_score(y_test,best_rf_pred))"
   ]
  },
  {
   "cell_type": "code",
   "execution_count": 578,
   "metadata": {},
   "outputs": [
    {
     "data": {
      "image/png": "[encoded data removed]",
      "text/plain": [
       "<Figure size 600x400 with 2 Axes>"
      ]
     },
     "metadata": {},
     "output_type": "display_data"
    }
   ],
   "source": [
    "cm = confusion_matrix(y_test, best_rf_pred)\n",
    "plt.figure(figsize=(6,4))\n",
    "sns.heatmap(cm, annot=True, fmt='d', cmap='Blues', xticklabels=le.classes_, yticklabels=le.classes_)\n",
    "plt.xlabel('Predicted')\n",
    "plt.ylabel('Actual')\n",
    "plt.title('Confusion Matrix')\n",
    "plt.show()"
   ]
  },
  {
   "cell_type": "code",
   "execution_count": 579,
   "metadata": {},
   "outputs": [
    {
     "data": {
      "text/plain": [
       "876"
      ]
     },
     "execution_count": 579,
     "metadata": {},
     "output_type": "execute_result"
    }
   ],
   "source": [
    "len(x_test)"
   ]
  },
  {
   "cell_type": "code",
   "execution_count": null,
   "metadata": {},
   "outputs": [],
   "source": []
  }
 ],
 "metadata": {
  "kernelspec": {
   "display_name": ".venv",
   "language": "python",
   "name": "python3"
  },
  "language_info": {
   "codemirror_mode": {
    "name": "ipython",
    "version": 3
   },
   "file_extension": ".py",
   "mimetype": "text/x-python",
   "name": "python",
   "nbconvert_exporter": "python",
   "pygments_lexer": "ipython3",
   "version": "3.11.9"
  }
 },
 "nbformat": 4,
 "nbformat_minor": 2
}
